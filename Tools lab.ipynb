{
 "cells": [
  {
   "cell_type": "markdown",
   "id": "67cf6031",
   "metadata": {},
   "source": [
    "# Data Science Tools and Ecosystem"
   ]
  },
  {
   "cell_type": "markdown",
   "id": "78ac5082",
   "metadata": {},
   "source": [
    "In this notebook, Data Science Tools and Ecosystem are summarized."
   ]
  },
  {
   "cell_type": "markdown",
   "id": "90b38352",
   "metadata": {},
   "source": [
    "Some of the popular languages that Data Scientists use are:"
   ]
  },
  {
   "cell_type": "markdown",
   "id": "d2e407e3",
   "metadata": {},
   "source": [
    "__Objectives:__\n",
    "\n",
    "* Markdown\n",
    "* Headlings\n",
    "* list creation\n",
    "* table creation\n",
    "    \n",
    "1. Python\n",
    "1. R\n",
    "1. SQL\n",
    "1. Scala\n",
    "1. Julia"
   ]
  },
  {
   "cell_type": "code",
   "execution_count": null,
   "id": "dc472356",
   "metadata": {},
   "outputs": [],
   "source": [
    "Some of the commonly used libraries used by Data Scientists include:\n",
    "    \n",
    "    1. Pandas\n",
    "    1. NumPy\n",
    "    1. Matplotlib\n",
    "    1. PyTorch\n",
    "    1. TensorFlow\n",
    "    1. SciPy"
   ]
  },
  {
   "cell_type": "markdown",
   "id": "026b367e",
   "metadata": {},
   "source": [
    "|Data Science Tools                  |\n",
    "|-----------------------------------:|\n",
    "|Jupiter Notebook                    | \n",
    "|RStudio                             |\n",
    "|Julia                               |\n",
    "|Hadoop                              |\n"
   ]
  },
  {
   "cell_type": "markdown",
   "id": "cc61257a",
   "metadata": {},
   "source": [
    "### Below are a few examples of evaluating arithmetic expressions in Python"
   ]
  },
  {
   "cell_type": "code",
   "execution_count": 12,
   "id": "0bfce514",
   "metadata": {},
   "outputs": [
    {
     "data": {
      "text/plain": [
       "17"
      ]
     },
     "execution_count": 12,
     "metadata": {},
     "output_type": "execute_result"
    }
   ],
   "source": [
    "#This a simple arithmetic expression to mutiply then add integers\n",
    "(3 * 4) + 5"
   ]
  },
  {
   "cell_type": "code",
   "execution_count": 15,
   "id": "215cf36e",
   "metadata": {},
   "outputs": [
    {
     "data": {
      "text/plain": [
       "3.3333333333333335"
      ]
     },
     "execution_count": 15,
     "metadata": {},
     "output_type": "execute_result"
    }
   ],
   "source": [
    "#This will convert 200 minutes to hours by diving by 60\n",
    "200 / 60"
   ]
  },
  {
   "cell_type": "markdown",
   "id": "b538fa95",
   "metadata": {},
   "source": [
    "## Author\n",
    "Roman"
   ]
  }
 ],
 "metadata": {
  "kernelspec": {
   "display_name": "Python 3 (ipykernel)",
   "language": "python",
   "name": "python3"
  },
  "language_info": {
   "codemirror_mode": {
    "name": "ipython",
    "version": 3
   },
   "file_extension": ".py",
   "mimetype": "text/x-python",
   "name": "python",
   "nbconvert_exporter": "python",
   "pygments_lexer": "ipython3",
   "version": "3.11.5"
  }
 },
 "nbformat": 4,
 "nbformat_minor": 5
}
